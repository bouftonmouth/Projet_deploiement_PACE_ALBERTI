{
 "cells": [
  {
   "cell_type": "markdown",
   "metadata": {},
   "source": [
    "# Bio-inspired algorithm tutorial"
   ]
  },
  {
   "cell_type": "code",
   "execution_count": 46,
   "metadata": {},
   "outputs": [],
   "source": [
    "import numpy as np\n",
    "np.random.seed(0)"
   ]
  },
  {
   "cell_type": "markdown",
   "metadata": {},
   "source": [
    "## Create your first genome"
   ]
  },
  {
   "cell_type": "code",
   "execution_count": 24,
   "metadata": {},
   "outputs": [],
   "source": [
    "from Code_projet import creta"
   ]
  },
  {
   "cell_type": "code",
   "execution_count": 47,
   "metadata": {},
   "outputs": [
    {
     "name": "stdout",
     "output_type": "stream",
     "text": [
      "[1, 1, 1, 1, -1, 1, -1, 1, 1, -1, 1, 1, 1, 1, -1, -1, -1, 1, 1, 1, 1, 1, -1, 1, -1, 1, -1, 1, 1, -1, -1, 1, -1, 1, -1, 1, 1, 1, 1, 1, -1, -1, 1, -1, 1, 1, -1, -1, -1, -1, 1, -1, 1, -1, -1, -1, 1, -1, -1, -1, -1, -1, 1, -1, -1, -1, 1, -1, 1, -1, 1, -1, 1, 1, 1, -1, -1, -1, -1, -1, -1, -1, -1, 1, 1, -1, 1, -1, 1, 1, -1, 1, -1, 1, -1, -1, 1, -1, 1, -1]\n"
     ]
    }
   ],
   "source": [
    "genome=creta(100)\n",
    "print(genome)"
   ]
  },
  {
   "cell_type": "code",
   "execution_count": 25,
   "metadata": {},
   "outputs": [
    {
     "name": "stdout",
     "output_type": "stream",
     "text": [
      "[1, 1, 1, 1, -1, 1, -1, 1, 1, -1, 1, 1, 1, 1, -1, -1, -1, 1, 1, 1, 1, 1, -1, 1, -1, 1, -1, 1, 1, -1, -1, 1, -1, 1, -1, 1, 1, 1, 1, 1, -1, -1, 1, -1, 1, 1, -1, -1, -1, -1, 1, -1, 1, -1, -1, -1, 1, -1, -1, -1, -1, -1, 1, -1, -1, -1, 1, -1, 1, -1, 1, -1, 1, 1, 1, -1, -1, -1, -1, -1, -1, -1, -1, 1, 1, -1, 1, -1, 1, 1, -1, 1, -1, 1, -1, -1, 1, -1, 1, -1]\n"
     ]
    }
   ],
   "source": [
    "#genome=creta(100)\n",
    "#print(genome)"
   ]
  },
  {
   "cell_type": "markdown",
   "metadata": {},
   "source": [
    "## Check the cost of your genome"
   ]
  },
  {
   "cell_type": "code",
   "execution_count": 26,
   "metadata": {},
   "outputs": [],
   "source": [
    "from Code_projet import calc"
   ]
  },
  {
   "cell_type": "code",
   "execution_count": 48,
   "metadata": {},
   "outputs": [
    {
     "name": "stdout",
     "output_type": "stream",
     "text": [
      "62\n"
     ]
    }
   ],
   "source": [
    "print(calc(genome,4))"
   ]
  },
  {
   "cell_type": "code",
   "execution_count": 27,
   "metadata": {},
   "outputs": [
    {
     "name": "stdout",
     "output_type": "stream",
     "text": [
      "62\n"
     ]
    }
   ],
   "source": [
    "#print(calc(genome,4))"
   ]
  },
  {
   "cell_type": "markdown",
   "metadata": {},
   "source": [
    "## Create a population"
   ]
  },
  {
   "cell_type": "code",
   "execution_count": 28,
   "metadata": {},
   "outputs": [],
   "source": [
    "from Code_projet import cretaN"
   ]
  },
  {
   "cell_type": "code",
   "execution_count": 49,
   "metadata": {},
   "outputs": [
    {
     "name": "stdout",
     "output_type": "stream",
     "text": [
      "[[1, -1, 1, 1, -1], [1, 1, 1, -1, 1], [-1, 1, 1, -1, 1], [-1, 1, 1, 1, 1]]\n"
     ]
    }
   ],
   "source": [
    "pop_Ngenome = cretaN(4,5)\n",
    "print(pop_Ngenome)"
   ]
  },
  {
   "cell_type": "code",
   "execution_count": 29,
   "metadata": {},
   "outputs": [
    {
     "name": "stdout",
     "output_type": "stream",
     "text": [
      "[[1, -1, 1, 1, -1], [1, 1, 1, -1, 1], [-1, 1, 1, -1, 1], [-1, 1, 1, 1, 1]]\n"
     ]
    }
   ],
   "source": [
    "#pop_Ngenome = cretaN(4,5)\n",
    "#print(pop_Ngenome)"
   ]
  },
  {
   "cell_type": "markdown",
   "metadata": {},
   "source": [
    "## Sort your population by genome's cost"
   ]
  },
  {
   "cell_type": "code",
   "execution_count": 30,
   "metadata": {},
   "outputs": [],
   "source": [
    "from Code_projet import calcN"
   ]
  },
  {
   "cell_type": "code",
   "execution_count": 50,
   "metadata": {},
   "outputs": [
    {
     "name": "stdout",
     "output_type": "stream",
     "text": [
      "[ 9 17 16 14 12 19  3  1  5 10  4  2  8 18  0  6  7 13 15 11]\n"
     ]
    }
   ],
   "source": [
    "pop_Ngenome = cretaN(20,10)\n",
    "print(calcN(pop_Ngenome,4))"
   ]
  },
  {
   "cell_type": "code",
   "execution_count": 31,
   "metadata": {},
   "outputs": [
    {
     "name": "stdout",
     "output_type": "stream",
     "text": [
      "[ 9 17 16 14 12 19  3  1  5 10  4  2  8 18  0  6  7 13 15 11]\n"
     ]
    }
   ],
   "source": [
    "#pop_Ngenome = cretaN(20,10)\n",
    "#print(calcN(pop_Ngenome,4))"
   ]
  },
  {
   "cell_type": "markdown",
   "metadata": {},
   "source": [
    "## Select a part of the population"
   ]
  },
  {
   "cell_type": "code",
   "execution_count": 32,
   "metadata": {},
   "outputs": [],
   "source": [
    "from Code_projet import select"
   ]
  },
  {
   "cell_type": "code",
   "execution_count": 51,
   "metadata": {},
   "outputs": [
    {
     "name": "stdout",
     "output_type": "stream",
     "text": [
      "[[1, 1, -1, 1, -1, 1, 1, -1, 1, 1], [1, -1, 1, 1, 1, 1, -1, -1, 1, -1], [1, -1, -1, 1, 1, 1, -1, 1, 1, 1], [-1, 1, -1, -1, -1, -1, 1, -1, 1, 1], [1, 1, -1, -1, -1, -1, -1, -1, 1, -1], [1, 1, 1, 1, -1, 1, -1, -1, 1, -1], [-1, 1, 1, -1, 1, 1, 1, 1, 1, -1], [-1, -1, -1, 1, 1, -1, -1, -1, -1, -1], [-1, 1, 1, 1, 1, -1, 1, 1, 1, -1], [1, 1, -1, 1, -1, 1, 1, 1, 1, 1]]\n",
      "[0 1 2 3 4 5 6 7 8 9]\n"
     ]
    }
   ],
   "source": [
    "liste_rang=calcN(pop_Ngenome,4) \n",
    "pop_triée=select(pop_Ngenome,liste_rang)\n",
    "print(pop_triée)\n",
    "print(calcN(pop_triée,4))"
   ]
  },
  {
   "cell_type": "code",
   "execution_count": 33,
   "metadata": {},
   "outputs": [
    {
     "name": "stdout",
     "output_type": "stream",
     "text": [
      "[[1, 1, -1, 1, -1, 1, 1, -1, 1, 1], [1, -1, 1, 1, 1, 1, -1, -1, 1, -1], [1, -1, -1, 1, 1, 1, -1, 1, 1, 1], [-1, 1, -1, -1, -1, -1, 1, -1, 1, 1], [1, 1, -1, -1, -1, -1, -1, -1, 1, -1], [1, 1, 1, 1, -1, 1, -1, -1, 1, -1], [-1, 1, 1, -1, 1, 1, 1, 1, 1, -1], [-1, -1, -1, 1, 1, -1, -1, -1, -1, -1], [-1, 1, 1, 1, 1, -1, 1, 1, 1, -1], [1, 1, -1, 1, -1, 1, 1, 1, 1, 1]]\n",
      "[0 1 2 3 4 5 6 7 8 9]\n"
     ]
    }
   ],
   "source": [
    "#liste_rang=calcN(pop_Ngenome,4) \n",
    "#pop_triée=select(pop_Ngenome,liste_rang)\n",
    "#print(pop_triée)\n",
    "#print(calcN(pop_triée,4))"
   ]
  },
  {
   "cell_type": "markdown",
   "metadata": {},
   "source": [
    "## Mutate your population"
   ]
  },
  {
   "cell_type": "code",
   "execution_count": 34,
   "metadata": {},
   "outputs": [],
   "source": [
    "from Code_projet import mutation"
   ]
  },
  {
   "cell_type": "code",
   "execution_count": 52,
   "metadata": {},
   "outputs": [
    {
     "name": "stdout",
     "output_type": "stream",
     "text": [
      "[1, 1, -1, 1, -1, 1, 1, -1, 1, 1]\n",
      "[1, 1, -1, 1, -1, 1, -1, 1, 1, 1]\n"
     ]
    }
   ],
   "source": [
    "pop_mutée = mutation(pop_triée,0.5)\n",
    "print(pop_triée[0])\n",
    "print(pop_mutée[0])"
   ]
  },
  {
   "cell_type": "code",
   "execution_count": 35,
   "metadata": {},
   "outputs": [
    {
     "name": "stdout",
     "output_type": "stream",
     "text": [
      "[1, 1, -1, 1, -1, 1, 1, -1, 1, 1]\n",
      "[1, 1, -1, 1, -1, 1, -1, 1, 1, 1]\n"
     ]
    }
   ],
   "source": [
    "#pop_mutée = mutation(pop_triée,0.5)\n",
    "#print(pop_triée[0])\n",
    "#print(pop_mutée[0])"
   ]
  },
  {
   "cell_type": "markdown",
   "metadata": {},
   "source": [
    "## Cross your genomes"
   ]
  },
  {
   "cell_type": "code",
   "execution_count": 36,
   "metadata": {},
   "outputs": [],
   "source": [
    "from Code_projet import croisement"
   ]
  },
  {
   "cell_type": "code",
   "execution_count": 53,
   "metadata": {},
   "outputs": [
    {
     "name": "stdout",
     "output_type": "stream",
     "text": [
      "[[-1, 1, -1, -1, -1, 1, -1, 1, 1, 1], [-1, -1, -1, -1, 1, 1, 1, -1, -1, -1], [1, 1, -1, 1, 1, 1, 1, 1, -1, -1], [1, 1, -1, 1, -1, -1, -1, 1, 1, -1], [1, 1, -1, -1, 1, -1, 1, -1, -1, 1], [1, 1, 1, -1, -1, -1, -1, 1, 1, 1], [1, 1, -1, 1, -1, 1, 1, -1, -1, -1], [1, -1, -1, 1, -1, 1, -1, -1, -1, -1], [-1, -1, 1, -1, -1, -1, 1, 1, -1, -1], [1, -1, 1, 1, -1, 1, 1, 1, 1, -1]]\n"
     ]
    }
   ],
   "source": [
    "croisement(pop_mutée,0.05)\n",
    "print(pop_mutée)"
   ]
  },
  {
   "cell_type": "code",
   "execution_count": 37,
   "metadata": {},
   "outputs": [
    {
     "name": "stdout",
     "output_type": "stream",
     "text": [
      "[[-1, 1, -1, -1, -1, 1, -1, 1, 1, 1], [-1, -1, -1, -1, 1, 1, 1, -1, -1, -1], [1, 1, -1, 1, 1, 1, 1, 1, -1, -1], [1, 1, -1, 1, -1, -1, -1, 1, 1, -1], [1, 1, -1, -1, 1, -1, 1, -1, -1, 1], [1, 1, 1, -1, -1, -1, -1, 1, 1, 1], [1, 1, -1, 1, -1, 1, 1, -1, -1, -1], [1, -1, -1, 1, -1, 1, -1, -1, -1, -1], [-1, -1, 1, -1, -1, -1, 1, 1, -1, -1], [1, -1, 1, 1, -1, 1, 1, 1, 1, -1]]\n"
     ]
    }
   ],
   "source": [
    "#croisement(pop_mutée,0.05)\n",
    "#print(pop_mutée)"
   ]
  },
  {
   "cell_type": "markdown",
   "metadata": {},
   "source": [
    "## Rebuild your population"
   ]
  },
  {
   "cell_type": "code",
   "execution_count": 38,
   "metadata": {},
   "outputs": [],
   "source": [
    "from Code_projet import concatene"
   ]
  },
  {
   "cell_type": "code",
   "execution_count": 55,
   "metadata": {},
   "outputs": [
    {
     "name": "stdout",
     "output_type": "stream",
     "text": [
      "20\n"
     ]
    }
   ],
   "source": [
    "pop = concatene(pop_Ngenome,pop_mutée,liste_rang)\n",
    "print(len(pop))"
   ]
  },
  {
   "cell_type": "code",
   "execution_count": 39,
   "metadata": {},
   "outputs": [
    {
     "name": "stdout",
     "output_type": "stream",
     "text": [
      "20\n"
     ]
    }
   ],
   "source": [
    "#pop = concatene(pop_Ngenome,pop_mutée,liste_rang)\n",
    "#print(len(pop))"
   ]
  },
  {
   "cell_type": "markdown",
   "metadata": {},
   "source": [
    "## Calculate the new cost of your population"
   ]
  },
  {
   "cell_type": "code",
   "execution_count": 40,
   "metadata": {},
   "outputs": [],
   "source": [
    "from Code_projet import calc_cout"
   ]
  },
  {
   "cell_type": "code",
   "execution_count": 56,
   "metadata": {},
   "outputs": [
    {
     "name": "stdout",
     "output_type": "stream",
     "text": [
      "0\n",
      "0.7\n"
     ]
    }
   ],
   "source": [
    "cout_totaux=calc_cout(pop,4)\n",
    "print(min(cout_totaux))\n",
    "print(np.mean(cout_totaux))"
   ]
  },
  {
   "cell_type": "code",
   "execution_count": 41,
   "metadata": {},
   "outputs": [
    {
     "name": "stdout",
     "output_type": "stream",
     "text": [
      "0\n",
      "0.7\n"
     ]
    }
   ],
   "source": [
    "cout_totaux=calc_cout(pop,4)\n",
    "#print(min(cout_totaux))\n",
    "#print(np.mean(cout_totaux))"
   ]
  },
  {
   "cell_type": "markdown",
   "metadata": {},
   "source": [
    "## Now show the variation of cost for a number of generation"
   ]
  },
  {
   "cell_type": "code",
   "execution_count": 42,
   "metadata": {},
   "outputs": [],
   "source": [
    "from Code_projet import algofinal"
   ]
  },
  {
   "cell_type": "code",
   "execution_count": 57,
   "metadata": {},
   "outputs": [
    {
     "data": {
      "image/png": "[encoded data removed]",
      "text/plain": [
       "<Figure size 432x288 with 1 Axes>"
      ]
     },
     "metadata": {
      "needs_background": "light"
     },
     "output_type": "display_data"
    }
   ],
   "source": [
    "mini,moy=algofinal(500,4,100,0.05,0.001,200)"
   ]
  },
  {
   "cell_type": "code",
   "execution_count": 43,
   "metadata": {},
   "outputs": [
    {
     "data": {
      "image/png": "[encoded data removed]",
      "text/plain": [
       "<Figure size 432x288 with 1 Axes>"
      ]
     },
     "metadata": {
      "needs_background": "light"
     },
     "output_type": "display_data"
    }
   ],
   "source": [
    "#mini,moy=algofinal(500,4,100,0.05,0.001,200)"
   ]
  }
 ],
 "metadata": {
  "kernelspec": {
   "display_name": "Python 3",
   "language": "python",
   "name": "python3"
  },
  "language_info": {
   "codemirror_mode": {
    "name": "ipython",
    "version": 3
   },
   "file_extension": ".py",
   "mimetype": "text/x-python",
   "name": "python",
   "nbconvert_exporter": "python",
   "pygments_lexer": "ipython3",
   "version": "3.6.9"
  }
 },
 "nbformat": 4,
 "nbformat_minor": 4
}
